{
 "cells": [
  {
   "cell_type": "markdown",
   "id": "09058cb5",
   "metadata": {},
   "source": [
    "# Data Science Tools and Ecosystem "
   ]
  },
  {
   "cell_type": "markdown",
   "id": "bbc9f5e1",
   "metadata": {},
   "source": [
    "## Author\n",
    "Muhammad Irfan Zafar"
   ]
  },
  {
   "cell_type": "markdown",
   "id": "97f81cc3",
   "metadata": {},
   "source": [
    "In this notebook , Data Science Tools and Ecosystem are summarized. "
   ]
  },
  {
   "cell_type": "markdown",
   "id": "65a9013a",
   "metadata": {},
   "source": [
    "**Objectives:**\n",
    "* List of popular programming languages\n",
    "* List of commonly used libraries in data science\n",
    "* List of developent environments in data science\n",
    "* Aritmetic expressions of addition, multiplication and division"
   ]
  },
  {
   "cell_type": "markdown",
   "id": "ed364c50",
   "metadata": {},
   "source": [
    "Some of the popular languages that Data Scientists use are:\n",
    "1. Python\n",
    "2. R\n",
    "3. Julia"
   ]
  },
  {
   "cell_type": "markdown",
   "id": "ada14486",
   "metadata": {},
   "source": [
    "Some of the commonly used libraries used by Data Scientists include:\n",
    "1. pytorch\n",
    "2. numpy\n",
    "3. pandas"
   ]
  },
  {
   "cell_type": "markdown",
   "id": "d9cfcacf",
   "metadata": {},
   "source": [
    "| Data Science Tools|\n",
    "|:---:|\n",
    "| RStudio|\n",
    "|Jupyter Notebook|\n",
    "|VS Code|"
   ]
  },
  {
   "cell_type": "markdown",
   "id": "0d160dcc",
   "metadata": {},
   "source": [
    "### Below are a few examples of evaluating arithmetic expressions in Python."
   ]
  },
  {
   "cell_type": "code",
   "execution_count": 1,
   "id": "6242b93a",
   "metadata": {},
   "outputs": [
    {
     "data": {
      "text/plain": [
       "17"
      ]
     },
     "execution_count": 1,
     "metadata": {},
     "output_type": "execute_result"
    }
   ],
   "source": [
    "# This is a simple arithmetic expression to multiply then add integers \n",
    "(3*4)+5"
   ]
  },
  {
   "cell_type": "code",
   "execution_count": 2,
   "id": "a6c3d31f",
   "metadata": {},
   "outputs": [
    {
     "data": {
      "text/plain": [
       "3.3333333333333335"
      ]
     },
     "execution_count": 2,
     "metadata": {},
     "output_type": "execute_result"
    }
   ],
   "source": [
    "# This will convert 200 mintues to hours by by dividing by 60 \n",
    "200/60"
   ]
  },
  {
   "cell_type": "code",
   "execution_count": null,
   "id": "bd2ab16b",
   "metadata": {},
   "outputs": [],
   "source": []
  }
 ],
 "metadata": {
  "kernelspec": {
   "display_name": "Python 3 (ipykernel)",
   "language": "python",
   "name": "python3"
  },
  "language_info": {
   "codemirror_mode": {
    "name": "ipython",
    "version": 3
   },
   "file_extension": ".py",
   "mimetype": "text/x-python",
   "name": "python",
   "nbconvert_exporter": "python",
   "pygments_lexer": "ipython3",
   "version": "3.9.12"
  }
 },
 "nbformat": 4,
 "nbformat_minor": 5
}
